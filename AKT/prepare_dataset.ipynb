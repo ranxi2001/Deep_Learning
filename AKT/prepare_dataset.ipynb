{
 "cells": [
  {
   "cell_type": "code",
   "execution_count": 1,
   "metadata": {
    "pycharm": {
     "name": "#%%\n"
    }
   },
   "outputs": [
    {
     "name": "stderr",
     "output_type": "stream",
     "text": [
      "downloader, INFO ../../data/2009_skill_builder_data_corrected.zip already exists. Send resume request after 9084422 bytes\n",
      "downloader, INFO http://base.ustc.edu.cn/data/ASSISTment/2009_skill_builder_data_corrected.zip is saved as ../../data/2009_skill_builder_data_corrected.zip\n",
      "downloader, WARNING Range not support. Redownloading...\n"
     ]
    },
    {
     "name": "stdout",
     "output_type": "stream",
     "text": [
      "Downloading 100.00% : 9084928 | 9084422"
     ]
    },
    {
     "data": {
      "text/plain": "'../../data'"
     },
     "execution_count": 1,
     "metadata": {},
     "output_type": "execute_result"
    }
   ],
   "source": [
    "from EduData import get_data\n",
    "\n",
    "get_data(\"assistment-2009-2010-skill\", \"../../data\")"
   ]
  },
  {
   "cell_type": "code",
   "execution_count": 2,
   "metadata": {},
   "outputs": [],
   "source": [
    "import random\n",
    "import pandas as pd\n",
    "import tqdm\n",
    "\n",
    "data = pd.read_csv(\n",
    "    '../../data/2009_skill_builder_data_corrected/skill_builder_data_corrected.csv',\n",
    "    usecols=['order_id', 'user_id', 'skill_id', 'problem_id', 'correct']\n",
    ").dropna(subset=['skill_id', 'problem_id'])"
   ]
  },
  {
   "cell_type": "code",
   "execution_count": 3,
   "metadata": {},
   "outputs": [
    {
     "name": "stdout",
     "output_type": "stream",
     "text": [
      "number of skills: 123\n",
      "number of problems: 17751\n"
     ]
    }
   ],
   "source": [
    "'''\n",
    "This is a example for pid.\n",
    "If the dataset you use doesn't have the field of problem id, please remove problem id used in this example.\n",
    "'''\n",
    "raw_skill = data.skill_id.unique().tolist()\n",
    "raw_problem = data.problem_id.unique().tolist()\n",
    "num_skill = len(raw_skill)\n",
    "n_problem = len(raw_problem)\n",
    "\n",
    "# question id from 1 to #num_skill\n",
    "skills = { p: i+1 for i, p in enumerate(raw_skill) }\n",
    "problems = { p: i+1 for i, p in enumerate(raw_problem) }\n",
    "\n",
    "print(\"number of skills: %d\" % num_skill)\n",
    "print(\"number of problems: %d\" % n_problem)"
   ]
  },
  {
   "cell_type": "code",
   "execution_count": 4,
   "metadata": {},
   "outputs": [
    {
     "name": "stderr",
     "output_type": "stream",
     "text": [
      "parse student sequence:\t: 100%|██████████| 4163/4163 [00:04<00:00, 942.88it/s] \n"
     ]
    }
   ],
   "source": [
    "def parse_all_seq(students):\n",
    "    all_sequences = []\n",
    "    for student_id in tqdm.tqdm(students, 'parse student sequence:\\t'):\n",
    "        student_sequence = parse_student_seq(data[data.user_id == student_id])\n",
    "        all_sequences.extend([student_sequence])\n",
    "    return all_sequences\n",
    "\n",
    "\n",
    "def parse_student_seq(student):\n",
    "    seq = student.sort_values('order_id')\n",
    "    s = [skills[q] for q in seq.skill_id.tolist()]\n",
    "    p = [problems[q] for q in seq.problem_id.tolist()]\n",
    "    a = seq.correct.tolist()\n",
    "    return s, p, a\n",
    "\n",
    "\n",
    "# [(skill_seq_0, problem_seq_0, answer_seq_0), ..., (skill_seq_n, problem_seq_n, answer_seq_n)]\n",
    "sequences = parse_all_seq(data.user_id.unique())"
   ]
  },
  {
   "cell_type": "code",
   "execution_count": 5,
   "metadata": {},
   "outputs": [],
   "source": [
    "def train_test_split(data, train_size=.7, shuffle=True):\n",
    "    if shuffle:\n",
    "        random.shuffle(data)\n",
    "    boundary = round(len(data) * train_size)\n",
    "    return data[: boundary], data[boundary:]\n",
    "\n",
    "\n",
    "train_sequences, test_sequences = train_test_split(sequences)"
   ]
  },
  {
   "cell_type": "code",
   "execution_count": 6,
   "metadata": {
    "pycharm": {
     "name": "#%%\n"
    }
   },
   "outputs": [
    {
     "name": "stderr",
     "output_type": "stream",
     "text": [
      "write into file: 100%|██████████| 2914/2914 [00:00<00:00, 17837.40it/s]\n",
      "write into file: 100%|██████████| 1249/1249 [00:00<00:00, 19689.79it/s]\n"
     ]
    }
   ],
   "source": [
    "def sequences2l(sequences, trgpath):\n",
    "    with open(trgpath, 'a', encoding='utf8') as f:\n",
    "        for seq in tqdm.tqdm(sequences, 'write into file: '):\n",
    "            skills, problems, answers = seq\n",
    "            seq_len = len(skills)\n",
    "            f.write(str(seq_len) + '\\n')\n",
    "            f.write(','.join([str(q) for q in problems]) + '\\n')\n",
    "            f.write(','.join([str(q) for q in skills]) + '\\n')\n",
    "            f.write(','.join([str(a) for a in answers]) + '\\n')\n",
    "\n",
    "\n",
    "# save triple line format for other tasks\n",
    "sequences2l(train_sequences, '../../data/2009_skill_builder_data_corrected/train_pid.txt')\n",
    "sequences2l(test_sequences, '../../data/2009_skill_builder_data_corrected/test_pid.txt')\n"
   ]
  }
 ],
 "metadata": {
  "kernelspec": {
   "display_name": "Python 3",
   "language": "python",
   "name": "python3"
  },
  "language_info": {
   "codemirror_mode": {
    "name": "ipython",
    "version": 3
   },
   "file_extension": ".py",
   "mimetype": "text/x-python",
   "name": "python",
   "nbconvert_exporter": "python",
   "pygments_lexer": "ipython3",
   "version": "3.9.0"
  }
 },
 "nbformat": 4,
 "nbformat_minor": 1
}